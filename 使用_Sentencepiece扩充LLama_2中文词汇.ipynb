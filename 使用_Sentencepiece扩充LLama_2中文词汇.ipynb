{
  "cells": [
    {
      "cell_type": "markdown",
      "metadata": {
        "id": "view-in-github",
        "colab_type": "text"
      },
      "source": [
        "<a href=\"https://colab.research.google.com/github/shichaog/GPT/blob/main/%E4%BD%BF%E7%94%A8_Sentencepiece%E6%89%A9%E5%85%85LLama_2%E4%B8%AD%E6%96%87%E8%AF%8D%E6%B1%87.ipynb\" target=\"_parent\"><img src=\"https://colab.research.google.com/assets/colab-badge.svg\" alt=\"Open In Colab\"/></a>"
      ]
    },
    {
      "cell_type": "markdown",
      "metadata": {
        "id": "KUS0QWGVA5rJ"
      },
      "source": [
        "# 首先使用Sentencepiece训练一个词汇表\n",
        "\n",
        "This is a copy implementation of Sentencepiece example from google github. But with Chinese examples.\n"
      ]
    },
    {
      "cell_type": "markdown",
      "metadata": {
        "id": "5lYqj4vPDQOe"
      },
      "source": [
        "# mount Google Drive for reading《遮天》.txt"
      ]
    },
    {
      "cell_type": "code",
      "execution_count": 9,
      "metadata": {
        "id": "6U0jdVKGCzNG",
        "colab": {
          "base_uri": "https://localhost:8080/"
        },
        "outputId": "626d176a-9949-46e6-8f6c-b9096f0be7a2"
      },
      "outputs": [
        {
          "output_type": "stream",
          "name": "stdout",
          "text": [
            "Drive already mounted at /content/drive; to attempt to forcibly remount, call drive.mount(\"/content/drive\", force_remount=True).\n",
            "/content/drive/My Drive/Colab Notebooks\n",
            "zhetian.txt\n"
          ]
        }
      ],
      "source": [
        "from google.colab import drive\n",
        "drive.mount('/content/drive')\n",
        "\n",
        "%cd /content/drive/My Drive/Colab Notebooks/\n",
        "!ls zhe*"
      ]
    },
    {
      "cell_type": "markdown",
      "metadata": {
        "id": "C-aovPC9DYiv"
      },
      "source": [
        "# Install sentencepiece\n",
        "\n"
      ]
    },
    {
      "cell_type": "code",
      "execution_count": 10,
      "metadata": {
        "id": "-GLtBnxUDXdv",
        "colab": {
          "base_uri": "https://localhost:8080/"
        },
        "outputId": "336d9a50-04e5-445f-a232-9c552880c129"
      },
      "outputs": [
        {
          "output_type": "stream",
          "name": "stdout",
          "text": [
            "Requirement already satisfied: sentencepiece in /usr/local/lib/python3.10/dist-packages (0.1.99)\n",
            "Requirement already satisfied: transformers in /usr/local/lib/python3.10/dist-packages (4.33.2)\n",
            "Requirement already satisfied: filelock in /usr/local/lib/python3.10/dist-packages (from transformers) (3.12.2)\n",
            "Requirement already satisfied: huggingface-hub<1.0,>=0.15.1 in /usr/local/lib/python3.10/dist-packages (from transformers) (0.17.2)\n",
            "Requirement already satisfied: numpy>=1.17 in /usr/local/lib/python3.10/dist-packages (from transformers) (1.23.5)\n",
            "Requirement already satisfied: packaging>=20.0 in /usr/local/lib/python3.10/dist-packages (from transformers) (23.1)\n",
            "Requirement already satisfied: pyyaml>=5.1 in /usr/local/lib/python3.10/dist-packages (from transformers) (6.0.1)\n",
            "Requirement already satisfied: regex!=2019.12.17 in /usr/local/lib/python3.10/dist-packages (from transformers) (2023.6.3)\n",
            "Requirement already satisfied: requests in /usr/local/lib/python3.10/dist-packages (from transformers) (2.31.0)\n",
            "Requirement already satisfied: tokenizers!=0.11.3,<0.14,>=0.11.1 in /usr/local/lib/python3.10/dist-packages (from transformers) (0.13.3)\n",
            "Requirement already satisfied: safetensors>=0.3.1 in /usr/local/lib/python3.10/dist-packages (from transformers) (0.3.3)\n",
            "Requirement already satisfied: tqdm>=4.27 in /usr/local/lib/python3.10/dist-packages (from transformers) (4.66.1)\n",
            "Requirement already satisfied: fsspec in /usr/local/lib/python3.10/dist-packages (from huggingface-hub<1.0,>=0.15.1->transformers) (2023.6.0)\n",
            "Requirement already satisfied: typing-extensions>=3.7.4.3 in /usr/local/lib/python3.10/dist-packages (from huggingface-hub<1.0,>=0.15.1->transformers) (4.5.0)\n",
            "Requirement already satisfied: charset-normalizer<4,>=2 in /usr/local/lib/python3.10/dist-packages (from requests->transformers) (3.2.0)\n",
            "Requirement already satisfied: idna<4,>=2.5 in /usr/local/lib/python3.10/dist-packages (from requests->transformers) (3.4)\n",
            "Requirement already satisfied: urllib3<3,>=1.21.1 in /usr/local/lib/python3.10/dist-packages (from requests->transformers) (2.0.4)\n",
            "Requirement already satisfied: certifi>=2017.4.17 in /usr/local/lib/python3.10/dist-packages (from requests->transformers) (2023.7.22)\n"
          ]
        }
      ],
      "source": [
        "import os\n",
        "\n",
        "os.environ[\"PROTOCOL_BUFFERS_PYTHON_IMPLEMENTATION\"] = \"python\"\n",
        "!pip install sentencepiece\n",
        "!pip install transformers"
      ]
    },
    {
      "cell_type": "code",
      "source": [
        "from transformers import LlamaTokenizer\n",
        "\n",
        "#model_id=\"meta-llama/Llama-2-7b-hf\"\n",
        "model_id=\"NousResearch/Llama-2-7b-hf\"\n",
        "llama_tokenizer = LlamaTokenizer.from_pretrained(model_id)"
      ],
      "metadata": {
        "id": "m6yC1s-5Lu4p"
      },
      "execution_count": 11,
      "outputs": []
    },
    {
      "cell_type": "markdown",
      "metadata": {
        "id": "_msbHMpXDri4"
      },
      "source": [
        "# Basic end-to-end exmaple\n",
        "Chinese don't use space to seprate words. The next code segments is using **unigram** method.When --model_type=unigram (default) is used, we can perform sampling and n-best segmentation for data augmentation. See subword regularization paper [kudo18] for more detail."
      ]
    },
    {
      "cell_type": "code",
      "execution_count": 12,
      "metadata": {
        "id": "slj_zzsLDvMt",
        "colab": {
          "base_uri": "https://localhost:8080/"
        },
        "outputId": "e770f434-9053-41f2-89dd-5e67884d7599"
      },
      "outputs": [
        {
          "output_type": "stream",
          "name": "stdout",
          "text": [
            "['▁', '叶', '凡', '经', '历', '九', '龙', '抬', '棺']\n",
            "[6, 388, 359, 295, 606, 117, 101, 967, 383]\n",
            "叶凡经历九龙抬棺\n",
            "叶凡经历九\n"
          ]
        }
      ],
      "source": [
        "import sentencepiece as spm\n",
        "\n",
        "# train sentencepiece model from `zhetian.txt` and makes `m.model` and `m.vocab`\n",
        "# `m.vocab` is just a reference. not used in the segmentation.\n",
        "spm.SentencePieceTrainer.train('--input=zhetian.txt --model_prefix=m --vocab_size=3439')\n",
        "\n",
        "# makes segmenter instance and loads the model file (m.model)\n",
        "sp = spm.SentencePieceProcessor()\n",
        "sp.load('m.model')\n",
        "\n",
        "# encode: text => id\n",
        "print(sp.encode_as_pieces('叶凡经历九龙抬棺'))\n",
        "print(sp.encode_as_ids('叶凡经历九龙抬棺'))\n",
        "\n",
        "# decode: id => text\n",
        "print(sp.decode_pieces(['▁', '叶', '凡', '经', '历', '九', '龙', '抬', '棺']))\n",
        "print(sp.decode_ids([388, 359, 295, 606, 117]))"
      ]
    },
    {
      "cell_type": "code",
      "execution_count": 13,
      "metadata": {
        "id": "gjVkWyxvEYSA",
        "colab": {
          "base_uri": "https://localhost:8080/"
        },
        "outputId": "1c270658-b281-422c-cca4-773b55d37284"
      },
      "outputs": [
        {
          "output_type": "stream",
          "name": "stdout",
          "text": [
            "3439\n",
            "0\n",
            "<unk> False\n",
            "<s> True\n",
            "</s> True\n"
          ]
        }
      ],
      "source": [
        "# returns vocab size\n",
        "print(sp.get_piece_size())\n",
        "\n",
        "\n",
        "# returns 0 for unknown tokens (we can change the id for UNK)\n",
        "print(sp.piece_to_id('__MUST_BE_UNKNOWN__'))\n",
        "\n",
        "# <unk>, <s>, </s> are defined by default. Their ids are (0, 1, 2)\n",
        "# <s> and </s> are defined as 'control' symbol.\n",
        "for id in range(3):\n",
        "  print(sp.id_to_piece(id), sp.is_control(id))"
      ]
    },
    {
      "cell_type": "code",
      "execution_count": 14,
      "metadata": {
        "id": "tI_vxKUEO2yo",
        "colab": {
          "base_uri": "https://localhost:8080/"
        },
        "outputId": "b12238e9-940a-496b-9fe4-2a8587ee7c52"
      },
      "outputs": [
        {
          "output_type": "stream",
          "name": "stdout",
          "text": [
            "m_bpe.model  m_bpe.vocab  m.model  m.vocab\n",
            "\n",
            "merged_tokenizer_hf:\n",
            "special_tokens_map.json  tokenizer_config.json\ttokenizer.model\n",
            "\n",
            "merged_tokenizer_sp:\n",
            "chinese_llama.model\n",
            "<unk>\t0\n",
            "<s>\t0\n",
            "</s>\t0\n",
            ",\t-2.2315\n",
            "的\t-3.60554\n",
            "。\t-3.71836\n",
            "▁\t-4.12704\n",
            "了\t-4.14309\n",
            "”\t-4.77899\n",
            "在\t-4.81982\n",
            "一\t-4.83639\n",
            "不\t-4.86514\n",
            "大\t-4.97118\n",
            "有\t-5.03706\n",
            "他\t-5.04904\n",
            "是\t-5.05205\n",
            "人\t-5.07435\n",
            "道\t-5.16509\n",
            "天\t-5.32164\n",
            "都\t-5.34114\n"
          ]
        }
      ],
      "source": [
        "#list model output model\n",
        "!ls m*\n",
        "#check 20 line vocab\n",
        "!head -n20 m.vocab"
      ]
    },
    {
      "cell_type": "markdown",
      "metadata": {
        "id": "j2th0McHRTzy"
      },
      "source": [
        "其上是使用unigram 方式得到的vocab，其中第一个列是独立的单词（对应于Sentencepiece中的piece），第二列是这个词出现的对数概率值，对应于paper[https://aclanthology.org/P18-1007.pdf]中的公式6."
      ]
    },
    {
      "cell_type": "code",
      "execution_count": 15,
      "metadata": {
        "id": "Ap8EIv_cb0dt"
      },
      "outputs": [],
      "source": [
        "with open(\"zhetian.txt\", \"r\", encoding=\"utf-8\") as fp:\n",
        "    data = fp.read().strip().split(\"\\n\")\n",
        "sentences = []\n",
        "\n",
        "for d in data:\n",
        "    d = d.strip()\n",
        "    if \"===\" in d or len(d) == 0 or d == \"《遮天》来自:\":\n",
        "        continue\n",
        "    sentences.append(d)\n",
        "\n",
        "with open(\"corpus.txt\", \"w\", encoding=\"utf-8\") as fp:\n",
        "    fp.write(\"\\n\".join(sentences))\n",
        "\n"
      ]
    },
    {
      "cell_type": "code",
      "execution_count": 16,
      "metadata": {
        "id": "YBf35HgHcUDx",
        "colab": {
          "base_uri": "https://localhost:8080/"
        },
        "outputId": "856b870a-edaf-4748-9d21-f05c11ee10ea"
      },
      "outputs": [
        {
          "output_type": "stream",
          "name": "stdout",
          "text": [
            "<unk>\t0\n",
            "<s>\t0\n",
            "</s>\t0\n",
            ",\t-0\n",
            "的\t-1\n",
            "▁\t-2\n",
            "。\t-3\n",
            "一\t-4\n",
            "了\t-5\n",
            "是\t-6\n",
            "不\t-7\n",
            "人\t-8\n",
            "有\t-9\n",
            "这\t-10\n",
            "“\t-11\n",
            "”\t-12\n",
            "他\t-13\n",
            "大\t-14\n",
            "在\t-15\n",
            "道\t-16\n"
          ]
        }
      ],
      "source": [
        "spm.SentencePieceTrainer.train('--input=corpus.txt --model_prefix=m_bpe --vocab_size=3433 --model_type=bpe')\n",
        "\n",
        "!head -n20 m_bpe.vocab"
      ]
    },
    {
      "cell_type": "code",
      "execution_count": 17,
      "metadata": {
        "id": "gFLGv4CGVc-I"
      },
      "outputs": [],
      "source": [
        "from sentencepiece import sentencepiece_model_pb2 as sp_pb2_model"
      ]
    },
    {
      "cell_type": "code",
      "execution_count": 18,
      "metadata": {
        "id": "YDHEfqJkVCRe",
        "colab": {
          "base_uri": "https://localhost:8080/"
        },
        "outputId": "b7f28b33-844e-47e7-c505-d542887b1075"
      },
      "outputs": [
        {
          "output_type": "execute_result",
          "data": {
            "text/plain": [
              "278841"
            ]
          },
          "metadata": {},
          "execution_count": 18
        }
      ],
      "source": [
        "chinese_sp_model = spm.SentencePieceProcessor()\n",
        "chinese_sp_model.Load('m.model')\n",
        "chinese_spm = sp_pb2_model.ModelProto()\n",
        "chinese_spm.ParseFromString(chinese_sp_model.serialized_model_proto())"
      ]
    },
    {
      "cell_type": "code",
      "execution_count": 19,
      "metadata": {
        "id": "dEqwfyNchWcR",
        "colab": {
          "base_uri": "https://localhost:8080/",
          "height": 331,
          "referenced_widgets": [
            "d559df21c6d746cdb7d6bf1a8c841f2c",
            "618f44ddbb564d26895ba88df890380a",
            "d8b9881aa968479584eca1001637d9a2",
            "dd7cad1aacda4b0696e6613c6dbc1fda",
            "12fa8c8dbcfb4358b0ac2ceacf6e030f",
            "63a56e81512a4d85a762cf78a1a30c7e",
            "64a95b26c8df4e269eaec69a835d4aaf",
            "e96d97327a2449d190ae358f961ee12b",
            "525fc4b7ceb048e78663aceccc3d226b",
            "6090a8abefcc47f4abbbbc3b3ef867c5",
            "669f3b38dd6049e88eec6b131b43f874",
            "fe27168514c24d72931cf3c91ac52030",
            "239dee96bbbe488e8a9e8462c4c4c322",
            "1aed245372f24251914f828e5d459224",
            "158166a687d240ef8a297cd455da122a",
            "0c6cb04421c045c2bbf0799be076992c",
            "3ce44a9dd50d471984dde8d0567d3199"
          ]
        },
        "outputId": "2aa30c70-73bd-4ef6-fad1-f1657100f82f"
      },
      "outputs": [
        {
          "output_type": "display_data",
          "data": {
            "text/plain": [
              "VBox(children=(HTML(value='<center> <img\\nsrc=https://huggingface.co/front/assets/huggingface_logo-noborder.sv…"
            ],
            "application/vnd.jupyter.widget-view+json": {
              "version_major": 2,
              "version_minor": 0,
              "model_id": "d559df21c6d746cdb7d6bf1a8c841f2c"
            }
          },
          "metadata": {}
        }
      ],
      "source": [
        "from huggingface_hub import login\n",
        "login()"
      ]
    },
    {
      "cell_type": "markdown",
      "metadata": {
        "id": "N_1HaDM_TeiL"
      },
      "source": [
        "接下来导入LLama词汇表"
      ]
    },
    {
      "cell_type": "code",
      "execution_count": 20,
      "metadata": {
        "id": "G82nZyGCS0-p"
      },
      "outputs": [],
      "source": [
        "import os\n",
        "from transformers import LlamaTokenizer\n"
      ]
    },
    {
      "cell_type": "code",
      "execution_count": 21,
      "metadata": {
        "id": "E3auwNwelUPT",
        "colab": {
          "base_uri": "https://localhost:8080/"
        },
        "outputId": "ca79f967-e55f-4620-d8ba-4adc959a480e"
      },
      "outputs": [
        {
          "output_type": "execute_result",
          "data": {
            "text/plain": [
              "499723"
            ]
          },
          "metadata": {},
          "execution_count": 21
        }
      ],
      "source": [
        "llama_spm = sp_pb2_model.ModelProto()\n",
        "llama_spm.ParseFromString(llama_tokenizer.sp_model.serialized_model_proto())"
      ]
    },
    {
      "cell_type": "markdown",
      "metadata": {
        "id": "kMTYiXE3lUEn"
      },
      "source": []
    },
    {
      "cell_type": "code",
      "execution_count": 22,
      "metadata": {
        "id": "DF61FUYXU54f",
        "colab": {
          "base_uri": "https://localhost:8080/"
        },
        "outputId": "8fb23408-2d8b-4993-bc2b-274436e7a44f"
      },
      "outputs": [
        {
          "output_type": "stream",
          "name": "stdout",
          "text": [
            "32000 3439\n",
            "['<s>', '</s>', '<unk>', '<unk>']\n",
            "[1, 2, 0, 0]\n",
            "{'bos_token': '<s>', 'eos_token': '</s>', 'unk_token': '<unk>', 'pad_token': '<unk>'}\n"
          ]
        }
      ],
      "source": [
        "# print number of tokens\n",
        "print(len(llama_tokenizer),len(chinese_sp_model))\n",
        "print(llama_tokenizer.all_special_tokens)\n",
        "print(llama_tokenizer.all_special_ids)\n",
        "print(llama_tokenizer.special_tokens_map)"
      ]
    },
    {
      "cell_type": "code",
      "execution_count": 23,
      "metadata": {
        "id": "WqanesWnVo6P",
        "colab": {
          "base_uri": "https://localhost:8080/"
        },
        "outputId": "d87bea4b-3957-42bd-a9bb-4062fc808432"
      },
      "outputs": [
        {
          "output_type": "stream",
          "name": "stdout",
          "text": [
            "32000\n",
            "Before:32000\n",
            "New model pieces: 34816\n"
          ]
        }
      ],
      "source": [
        "## Add Chinese tokens to LLaMA tokenizer\n",
        "llama_spm_tokens_set=set(p.piece for p in llama_spm.pieces)\n",
        "print(len(llama_spm_tokens_set))\n",
        "print(f\"Before:{len(llama_spm_tokens_set)}\")\n",
        "for p in chinese_spm.pieces:\n",
        "    piece = p.piece\n",
        "    if piece not in llama_spm_tokens_set:\n",
        "        new_p = sp_pb2_model.ModelProto().SentencePiece()\n",
        "        new_p.piece = piece\n",
        "        new_p.score = 0\n",
        "        llama_spm.pieces.append(new_p)\n",
        "print(f\"New model pieces: {len(llama_spm.pieces)}\")"
      ]
    },
    {
      "cell_type": "code",
      "execution_count": 24,
      "metadata": {
        "id": "uvrO2XtFVryn",
        "colab": {
          "base_uri": "https://localhost:8080/"
        },
        "outputId": "53d16cb7-a19d-4d01-ed41-e14871e227c8"
      },
      "outputs": [
        {
          "output_type": "stream",
          "name": "stderr",
          "text": [
            "You are using the default legacy behaviour of the <class 'transformers.models.llama.tokenization_llama.LlamaTokenizer'>. If you see this, DO NOT PANIC! This is expected, and simply means that the `legacy` (previous) behavior will be used so nothing changes for you. If you want to use the new behaviour, set `legacy=False`. This should only be set if you understand what it means, and thouroughly read the reason why this was added as explained in https://github.com/huggingface/transformers/pull/24565\n"
          ]
        },
        {
          "output_type": "stream",
          "name": "stdout",
          "text": [
            "Chinese-LLaMA tokenizer has been saved to merged_tokenizer_hf\n",
            "['<s>', '</s>', '<unk>']\n",
            "[1, 2, 0]\n",
            "{'bos_token': '<s>', 'eos_token': '</s>', 'unk_token': '<unk>'}\n",
            "Test text:\n",
            " 叶凡独自一人来到山前。\n",
            "The primary use of LLaMA is research on large language models, including\n",
            "Tokenized by LLaMA tokenizer:['▁', '<0xE5>', '<0x8F>', '<0xB6>', '<0xE5>', '<0x87>', '<0xA1>', '<0xE7>', '<0x8B>', '<0xAC>', '自', '一', '人', '来', '到', '山', '前', '。', '<0x0A>', 'The', '▁primary', '▁use', '▁of', '▁L', 'La', 'MA', '▁is', '▁research', '▁on', '▁large', '▁language', '▁models', ',', '▁including']\n",
            "Tokenized by Chinese-LLaMA tokenizer:['叶', '凡', '独', '自', '一', '人', '来', '到', '山', '前', '。', '<0x0A>', 'The', '▁primary', '▁use', '▁of', '▁L', 'La', 'MA', '▁is', '▁research', '▁on', '▁large', '▁language', '▁models', ',', '▁including']\n"
          ]
        }
      ],
      "source": [
        "## Save\n",
        "output_sp_dir = 'merged_tokenizer_sp'\n",
        "output_hf_dir = 'merged_tokenizer_hf' # the path to save Chinese-LLaMA tokenizer\n",
        "os.makedirs(output_sp_dir,exist_ok=True)\n",
        "with open(output_sp_dir+'/chinese_llama.model', 'wb') as f:\n",
        "    f.write(llama_spm.SerializeToString())\n",
        "tokenizer = LlamaTokenizer(vocab_file=output_sp_dir+'/chinese_llama.model')\n",
        "\n",
        "tokenizer.save_pretrained(output_hf_dir)\n",
        "print(f\"Chinese-LLaMA tokenizer has been saved to {output_hf_dir}\")\n",
        "\n",
        "\n",
        "# Test\n",
        "llama_tokenizer = LlamaTokenizer.from_pretrained(model_id)\n",
        "chinese_llama_tokenizer = LlamaTokenizer.from_pretrained(output_hf_dir)\n",
        "print(tokenizer.all_special_tokens)\n",
        "print(tokenizer.all_special_ids)\n",
        "print(tokenizer.special_tokens_map)\n",
        "text='''叶凡独自一人来到山前。\n",
        "The primary use of LLaMA is research on large language models, including'''\n",
        "print(\"Test text:\\n\",text)\n",
        "print(f\"Tokenized by LLaMA tokenizer:{llama_tokenizer.tokenize(text)}\")\n",
        "print(f\"Tokenized by Chinese-LLaMA tokenizer:{chinese_llama_tokenizer.tokenize(text)}\")"
      ]
    },
    {
      "cell_type": "code",
      "source": [
        "!head -n40 m_bpe.vocab"
      ],
      "metadata": {
        "colab": {
          "base_uri": "https://localhost:8080/"
        },
        "id": "UKOVt-SATGLi",
        "outputId": "6e0655f5-4057-46bd-e031-38e913e6dbcb"
      },
      "execution_count": 29,
      "outputs": [
        {
          "output_type": "stream",
          "name": "stdout",
          "text": [
            "<unk>\t0\n",
            "<s>\t0\n",
            "</s>\t0\n",
            ",\t-0\n",
            "的\t-1\n",
            "▁\t-2\n",
            "。\t-3\n",
            "一\t-4\n",
            "了\t-5\n",
            "是\t-6\n",
            "不\t-7\n",
            "人\t-8\n",
            "有\t-9\n",
            "这\t-10\n",
            "“\t-11\n",
            "”\t-12\n",
            "他\t-13\n",
            "大\t-14\n",
            "在\t-15\n",
            "道\t-16\n",
            "来\t-17\n",
            "出\t-18\n",
            "叶\t-19\n",
            "凡\t-20\n",
            "天\t-21\n",
            "都\t-22\n",
            "神\t-23\n",
            "个\t-24\n",
            "中\t-25\n",
            "到\t-26\n",
            "上\t-27\n",
            "可\t-28\n",
            "古\t-29\n",
            "而\t-30\n",
            "无\t-31\n",
            "下\t-32\n",
            "地\t-33\n",
            "们\t-34\n",
            "我\t-35\n",
            "圣\t-36\n"
          ]
        }
      ]
    },
    {
      "cell_type": "code",
      "source": [
        "!head -n40 m.vocab\n",
        "!cat m.vocab | !wc -l"
      ],
      "metadata": {
        "colab": {
          "base_uri": "https://localhost:8080/"
        },
        "id": "_9wFcIkMTRpI",
        "outputId": "e00ed7cb-4feb-42dc-e07c-e59c9575c724"
      },
      "execution_count": 30,
      "outputs": [
        {
          "output_type": "stream",
          "name": "stdout",
          "text": [
            "<unk>\t0\n",
            "<s>\t0\n",
            "</s>\t0\n",
            ",\t-2.2315\n",
            "的\t-3.60554\n",
            "。\t-3.71836\n",
            "▁\t-4.12704\n",
            "了\t-4.14309\n",
            "”\t-4.77899\n",
            "在\t-4.81982\n",
            "一\t-4.83639\n",
            "不\t-4.86514\n",
            "大\t-4.97118\n",
            "有\t-5.03706\n",
            "他\t-5.04904\n",
            "是\t-5.05205\n",
            "人\t-5.07435\n",
            "道\t-5.16509\n",
            "天\t-5.32164\n",
            "都\t-5.34114\n",
            "神\t-5.36147\n",
            "上\t-5.50963\n",
            "来\t-5.55264\n",
            "出\t-5.56062\n",
            "我\t-5.58279\n",
            "也\t-5.60701\n",
            "中\t-5.62267\n",
            "与\t-5.65124\n",
            "这\t-5.71184\n",
            "你\t-5.74568\n",
            "古\t-5.77975\n",
            "将\t-5.86369\n",
            "而\t-5.90409\n",
            "要\t-5.94854\n",
            "杀\t-5.9669\n",
            "就\t-5.96779\n",
            "无\t-5.97629\n",
            "被\t-5.98059\n",
            "去\t-6.0313\n",
            "动\t-6.04574\n",
            "/bin/bash: line 1: !wc: command not found\n"
          ]
        }
      ]
    }
  ],
  "metadata": {
    "colab": {
      "provenance": [],
      "gpuType": "T4",
      "authorship_tag": "ABX9TyMG6LAMevlLisDF0+kiiwiD",
      "include_colab_link": true
    },
    "kernelspec": {
      "display_name": "Python 3",
      "name": "python3"
    },
    "language_info": {
      "name": "python"
    },
    "accelerator": "GPU",
    "widgets": {
      "application/vnd.jupyter.widget-state+json": {
        "d559df21c6d746cdb7d6bf1a8c841f2c": {
          "model_module": "@jupyter-widgets/controls",
          "model_name": "VBoxModel",
          "model_module_version": "1.5.0",
          "state": {
            "_dom_classes": [],
            "_model_module": "@jupyter-widgets/controls",
            "_model_module_version": "1.5.0",
            "_model_name": "VBoxModel",
            "_view_count": null,
            "_view_module": "@jupyter-widgets/controls",
            "_view_module_version": "1.5.0",
            "_view_name": "VBoxView",
            "box_style": "",
            "children": [
              "IPY_MODEL_618f44ddbb564d26895ba88df890380a",
              "IPY_MODEL_d8b9881aa968479584eca1001637d9a2",
              "IPY_MODEL_dd7cad1aacda4b0696e6613c6dbc1fda",
              "IPY_MODEL_12fa8c8dbcfb4358b0ac2ceacf6e030f",
              "IPY_MODEL_63a56e81512a4d85a762cf78a1a30c7e"
            ],
            "layout": "IPY_MODEL_64a95b26c8df4e269eaec69a835d4aaf"
          }
        },
        "618f44ddbb564d26895ba88df890380a": {
          "model_module": "@jupyter-widgets/controls",
          "model_name": "HTMLModel",
          "model_module_version": "1.5.0",
          "state": {
            "_dom_classes": [],
            "_model_module": "@jupyter-widgets/controls",
            "_model_module_version": "1.5.0",
            "_model_name": "HTMLModel",
            "_view_count": null,
            "_view_module": "@jupyter-widgets/controls",
            "_view_module_version": "1.5.0",
            "_view_name": "HTMLView",
            "description": "",
            "description_tooltip": null,
            "layout": "IPY_MODEL_e96d97327a2449d190ae358f961ee12b",
            "placeholder": "​",
            "style": "IPY_MODEL_525fc4b7ceb048e78663aceccc3d226b",
            "value": "<center> <img\nsrc=https://huggingface.co/front/assets/huggingface_logo-noborder.svg\nalt='Hugging Face'> <br> Copy a token from <a\nhref=\"https://huggingface.co/settings/tokens\" target=\"_blank\">your Hugging Face\ntokens page</a> and paste it below. <br> Immediately click login after copying\nyour token or it might be stored in plain text in this notebook file. </center>"
          }
        },
        "d8b9881aa968479584eca1001637d9a2": {
          "model_module": "@jupyter-widgets/controls",
          "model_name": "PasswordModel",
          "model_module_version": "1.5.0",
          "state": {
            "_dom_classes": [],
            "_model_module": "@jupyter-widgets/controls",
            "_model_module_version": "1.5.0",
            "_model_name": "PasswordModel",
            "_view_count": null,
            "_view_module": "@jupyter-widgets/controls",
            "_view_module_version": "1.5.0",
            "_view_name": "PasswordView",
            "continuous_update": true,
            "description": "Token:",
            "description_tooltip": null,
            "disabled": false,
            "layout": "IPY_MODEL_6090a8abefcc47f4abbbbc3b3ef867c5",
            "placeholder": "​",
            "style": "IPY_MODEL_669f3b38dd6049e88eec6b131b43f874",
            "value": ""
          }
        },
        "dd7cad1aacda4b0696e6613c6dbc1fda": {
          "model_module": "@jupyter-widgets/controls",
          "model_name": "CheckboxModel",
          "model_module_version": "1.5.0",
          "state": {
            "_dom_classes": [],
            "_model_module": "@jupyter-widgets/controls",
            "_model_module_version": "1.5.0",
            "_model_name": "CheckboxModel",
            "_view_count": null,
            "_view_module": "@jupyter-widgets/controls",
            "_view_module_version": "1.5.0",
            "_view_name": "CheckboxView",
            "description": "Add token as git credential?",
            "description_tooltip": null,
            "disabled": false,
            "indent": true,
            "layout": "IPY_MODEL_fe27168514c24d72931cf3c91ac52030",
            "style": "IPY_MODEL_239dee96bbbe488e8a9e8462c4c4c322",
            "value": true
          }
        },
        "12fa8c8dbcfb4358b0ac2ceacf6e030f": {
          "model_module": "@jupyter-widgets/controls",
          "model_name": "ButtonModel",
          "model_module_version": "1.5.0",
          "state": {
            "_dom_classes": [],
            "_model_module": "@jupyter-widgets/controls",
            "_model_module_version": "1.5.0",
            "_model_name": "ButtonModel",
            "_view_count": null,
            "_view_module": "@jupyter-widgets/controls",
            "_view_module_version": "1.5.0",
            "_view_name": "ButtonView",
            "button_style": "",
            "description": "Login",
            "disabled": false,
            "icon": "",
            "layout": "IPY_MODEL_1aed245372f24251914f828e5d459224",
            "style": "IPY_MODEL_158166a687d240ef8a297cd455da122a",
            "tooltip": ""
          }
        },
        "63a56e81512a4d85a762cf78a1a30c7e": {
          "model_module": "@jupyter-widgets/controls",
          "model_name": "HTMLModel",
          "model_module_version": "1.5.0",
          "state": {
            "_dom_classes": [],
            "_model_module": "@jupyter-widgets/controls",
            "_model_module_version": "1.5.0",
            "_model_name": "HTMLModel",
            "_view_count": null,
            "_view_module": "@jupyter-widgets/controls",
            "_view_module_version": "1.5.0",
            "_view_name": "HTMLView",
            "description": "",
            "description_tooltip": null,
            "layout": "IPY_MODEL_0c6cb04421c045c2bbf0799be076992c",
            "placeholder": "​",
            "style": "IPY_MODEL_3ce44a9dd50d471984dde8d0567d3199",
            "value": "\n<b>Pro Tip:</b> If you don't already have one, you can create a dedicated\n'notebooks' token with 'write' access, that you can then easily reuse for all\nnotebooks. </center>"
          }
        },
        "64a95b26c8df4e269eaec69a835d4aaf": {
          "model_module": "@jupyter-widgets/base",
          "model_name": "LayoutModel",
          "model_module_version": "1.2.0",
          "state": {
            "_model_module": "@jupyter-widgets/base",
            "_model_module_version": "1.2.0",
            "_model_name": "LayoutModel",
            "_view_count": null,
            "_view_module": "@jupyter-widgets/base",
            "_view_module_version": "1.2.0",
            "_view_name": "LayoutView",
            "align_content": null,
            "align_items": "center",
            "align_self": null,
            "border": null,
            "bottom": null,
            "display": "flex",
            "flex": null,
            "flex_flow": "column",
            "grid_area": null,
            "grid_auto_columns": null,
            "grid_auto_flow": null,
            "grid_auto_rows": null,
            "grid_column": null,
            "grid_gap": null,
            "grid_row": null,
            "grid_template_areas": null,
            "grid_template_columns": null,
            "grid_template_rows": null,
            "height": null,
            "justify_content": null,
            "justify_items": null,
            "left": null,
            "margin": null,
            "max_height": null,
            "max_width": null,
            "min_height": null,
            "min_width": null,
            "object_fit": null,
            "object_position": null,
            "order": null,
            "overflow": null,
            "overflow_x": null,
            "overflow_y": null,
            "padding": null,
            "right": null,
            "top": null,
            "visibility": null,
            "width": "50%"
          }
        },
        "e96d97327a2449d190ae358f961ee12b": {
          "model_module": "@jupyter-widgets/base",
          "model_name": "LayoutModel",
          "model_module_version": "1.2.0",
          "state": {
            "_model_module": "@jupyter-widgets/base",
            "_model_module_version": "1.2.0",
            "_model_name": "LayoutModel",
            "_view_count": null,
            "_view_module": "@jupyter-widgets/base",
            "_view_module_version": "1.2.0",
            "_view_name": "LayoutView",
            "align_content": null,
            "align_items": null,
            "align_self": null,
            "border": null,
            "bottom": null,
            "display": null,
            "flex": null,
            "flex_flow": null,
            "grid_area": null,
            "grid_auto_columns": null,
            "grid_auto_flow": null,
            "grid_auto_rows": null,
            "grid_column": null,
            "grid_gap": null,
            "grid_row": null,
            "grid_template_areas": null,
            "grid_template_columns": null,
            "grid_template_rows": null,
            "height": null,
            "justify_content": null,
            "justify_items": null,
            "left": null,
            "margin": null,
            "max_height": null,
            "max_width": null,
            "min_height": null,
            "min_width": null,
            "object_fit": null,
            "object_position": null,
            "order": null,
            "overflow": null,
            "overflow_x": null,
            "overflow_y": null,
            "padding": null,
            "right": null,
            "top": null,
            "visibility": null,
            "width": null
          }
        },
        "525fc4b7ceb048e78663aceccc3d226b": {
          "model_module": "@jupyter-widgets/controls",
          "model_name": "DescriptionStyleModel",
          "model_module_version": "1.5.0",
          "state": {
            "_model_module": "@jupyter-widgets/controls",
            "_model_module_version": "1.5.0",
            "_model_name": "DescriptionStyleModel",
            "_view_count": null,
            "_view_module": "@jupyter-widgets/base",
            "_view_module_version": "1.2.0",
            "_view_name": "StyleView",
            "description_width": ""
          }
        },
        "6090a8abefcc47f4abbbbc3b3ef867c5": {
          "model_module": "@jupyter-widgets/base",
          "model_name": "LayoutModel",
          "model_module_version": "1.2.0",
          "state": {
            "_model_module": "@jupyter-widgets/base",
            "_model_module_version": "1.2.0",
            "_model_name": "LayoutModel",
            "_view_count": null,
            "_view_module": "@jupyter-widgets/base",
            "_view_module_version": "1.2.0",
            "_view_name": "LayoutView",
            "align_content": null,
            "align_items": null,
            "align_self": null,
            "border": null,
            "bottom": null,
            "display": null,
            "flex": null,
            "flex_flow": null,
            "grid_area": null,
            "grid_auto_columns": null,
            "grid_auto_flow": null,
            "grid_auto_rows": null,
            "grid_column": null,
            "grid_gap": null,
            "grid_row": null,
            "grid_template_areas": null,
            "grid_template_columns": null,
            "grid_template_rows": null,
            "height": null,
            "justify_content": null,
            "justify_items": null,
            "left": null,
            "margin": null,
            "max_height": null,
            "max_width": null,
            "min_height": null,
            "min_width": null,
            "object_fit": null,
            "object_position": null,
            "order": null,
            "overflow": null,
            "overflow_x": null,
            "overflow_y": null,
            "padding": null,
            "right": null,
            "top": null,
            "visibility": null,
            "width": null
          }
        },
        "669f3b38dd6049e88eec6b131b43f874": {
          "model_module": "@jupyter-widgets/controls",
          "model_name": "DescriptionStyleModel",
          "model_module_version": "1.5.0",
          "state": {
            "_model_module": "@jupyter-widgets/controls",
            "_model_module_version": "1.5.0",
            "_model_name": "DescriptionStyleModel",
            "_view_count": null,
            "_view_module": "@jupyter-widgets/base",
            "_view_module_version": "1.2.0",
            "_view_name": "StyleView",
            "description_width": ""
          }
        },
        "fe27168514c24d72931cf3c91ac52030": {
          "model_module": "@jupyter-widgets/base",
          "model_name": "LayoutModel",
          "model_module_version": "1.2.0",
          "state": {
            "_model_module": "@jupyter-widgets/base",
            "_model_module_version": "1.2.0",
            "_model_name": "LayoutModel",
            "_view_count": null,
            "_view_module": "@jupyter-widgets/base",
            "_view_module_version": "1.2.0",
            "_view_name": "LayoutView",
            "align_content": null,
            "align_items": null,
            "align_self": null,
            "border": null,
            "bottom": null,
            "display": null,
            "flex": null,
            "flex_flow": null,
            "grid_area": null,
            "grid_auto_columns": null,
            "grid_auto_flow": null,
            "grid_auto_rows": null,
            "grid_column": null,
            "grid_gap": null,
            "grid_row": null,
            "grid_template_areas": null,
            "grid_template_columns": null,
            "grid_template_rows": null,
            "height": null,
            "justify_content": null,
            "justify_items": null,
            "left": null,
            "margin": null,
            "max_height": null,
            "max_width": null,
            "min_height": null,
            "min_width": null,
            "object_fit": null,
            "object_position": null,
            "order": null,
            "overflow": null,
            "overflow_x": null,
            "overflow_y": null,
            "padding": null,
            "right": null,
            "top": null,
            "visibility": null,
            "width": null
          }
        },
        "239dee96bbbe488e8a9e8462c4c4c322": {
          "model_module": "@jupyter-widgets/controls",
          "model_name": "DescriptionStyleModel",
          "model_module_version": "1.5.0",
          "state": {
            "_model_module": "@jupyter-widgets/controls",
            "_model_module_version": "1.5.0",
            "_model_name": "DescriptionStyleModel",
            "_view_count": null,
            "_view_module": "@jupyter-widgets/base",
            "_view_module_version": "1.2.0",
            "_view_name": "StyleView",
            "description_width": ""
          }
        },
        "1aed245372f24251914f828e5d459224": {
          "model_module": "@jupyter-widgets/base",
          "model_name": "LayoutModel",
          "model_module_version": "1.2.0",
          "state": {
            "_model_module": "@jupyter-widgets/base",
            "_model_module_version": "1.2.0",
            "_model_name": "LayoutModel",
            "_view_count": null,
            "_view_module": "@jupyter-widgets/base",
            "_view_module_version": "1.2.0",
            "_view_name": "LayoutView",
            "align_content": null,
            "align_items": null,
            "align_self": null,
            "border": null,
            "bottom": null,
            "display": null,
            "flex": null,
            "flex_flow": null,
            "grid_area": null,
            "grid_auto_columns": null,
            "grid_auto_flow": null,
            "grid_auto_rows": null,
            "grid_column": null,
            "grid_gap": null,
            "grid_row": null,
            "grid_template_areas": null,
            "grid_template_columns": null,
            "grid_template_rows": null,
            "height": null,
            "justify_content": null,
            "justify_items": null,
            "left": null,
            "margin": null,
            "max_height": null,
            "max_width": null,
            "min_height": null,
            "min_width": null,
            "object_fit": null,
            "object_position": null,
            "order": null,
            "overflow": null,
            "overflow_x": null,
            "overflow_y": null,
            "padding": null,
            "right": null,
            "top": null,
            "visibility": null,
            "width": null
          }
        },
        "158166a687d240ef8a297cd455da122a": {
          "model_module": "@jupyter-widgets/controls",
          "model_name": "ButtonStyleModel",
          "model_module_version": "1.5.0",
          "state": {
            "_model_module": "@jupyter-widgets/controls",
            "_model_module_version": "1.5.0",
            "_model_name": "ButtonStyleModel",
            "_view_count": null,
            "_view_module": "@jupyter-widgets/base",
            "_view_module_version": "1.2.0",
            "_view_name": "StyleView",
            "button_color": null,
            "font_weight": ""
          }
        },
        "0c6cb04421c045c2bbf0799be076992c": {
          "model_module": "@jupyter-widgets/base",
          "model_name": "LayoutModel",
          "model_module_version": "1.2.0",
          "state": {
            "_model_module": "@jupyter-widgets/base",
            "_model_module_version": "1.2.0",
            "_model_name": "LayoutModel",
            "_view_count": null,
            "_view_module": "@jupyter-widgets/base",
            "_view_module_version": "1.2.0",
            "_view_name": "LayoutView",
            "align_content": null,
            "align_items": null,
            "align_self": null,
            "border": null,
            "bottom": null,
            "display": null,
            "flex": null,
            "flex_flow": null,
            "grid_area": null,
            "grid_auto_columns": null,
            "grid_auto_flow": null,
            "grid_auto_rows": null,
            "grid_column": null,
            "grid_gap": null,
            "grid_row": null,
            "grid_template_areas": null,
            "grid_template_columns": null,
            "grid_template_rows": null,
            "height": null,
            "justify_content": null,
            "justify_items": null,
            "left": null,
            "margin": null,
            "max_height": null,
            "max_width": null,
            "min_height": null,
            "min_width": null,
            "object_fit": null,
            "object_position": null,
            "order": null,
            "overflow": null,
            "overflow_x": null,
            "overflow_y": null,
            "padding": null,
            "right": null,
            "top": null,
            "visibility": null,
            "width": null
          }
        },
        "3ce44a9dd50d471984dde8d0567d3199": {
          "model_module": "@jupyter-widgets/controls",
          "model_name": "DescriptionStyleModel",
          "model_module_version": "1.5.0",
          "state": {
            "_model_module": "@jupyter-widgets/controls",
            "_model_module_version": "1.5.0",
            "_model_name": "DescriptionStyleModel",
            "_view_count": null,
            "_view_module": "@jupyter-widgets/base",
            "_view_module_version": "1.2.0",
            "_view_name": "StyleView",
            "description_width": ""
          }
        }
      }
    }
  },
  "nbformat": 4,
  "nbformat_minor": 0
}